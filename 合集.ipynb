{
 "cells": [
  {
   "cell_type": "markdown",
   "id": "7e625227",
   "metadata": {},
   "source": [
    "> And the whole question of reinforcement learning is how can we get this ultimate reward that we will get and propagate it back and learned how to behave.                            \n",
    "--MITx_6.86x"
   ]
  },
  {
   "cell_type": "markdown",
   "id": "be4f114c8d71997f",
   "metadata": {},
   "source": [
    "# 前言"
   ]
  },
  {
   "cell_type": "markdown",
   "id": "d74167ac675cd25a",
   "metadata": {},
   "source": [
    "## 强化学习基础篇"
   ]
  },
  {
   "cell_type": "markdown",
   "id": "e85928c5c338f3b5",
   "metadata": {},
   "source": [
    "### 1. 初探强化学习"
   ]
  },
  {
   "cell_type": "markdown",
   "id": "cd7e408129d99b9e",
   "metadata": {},
   "source": [
    "### 2. 多臂老虎机\n",
    "\n",
    "#### 2.2. 问题介绍\n",
    "\n",
    "实现一个拉杆数为 10 的多臂老虎机。其中拉动每根拉杆的奖励服从伯努利分布（Bernoulli distribution），即每次拉下拉杆有的概率获得的奖励为 1，有的概率获得的奖励为 0。奖励为 1 代表获奖，奖励为 0 代表没有获奖。"
   ]
  },
  {
   "cell_type": "code",
   "execution_count": null,
   "id": "d7f91f0e9833a211",
   "metadata": {
    "ExecuteTime": {
     "end_time": "2024-07-19T09:45:24.944637Z",
     "start_time": "2024-07-19T09:45:24.322220Z"
    }
   },
   "outputs": [],
   "source": [
    "import matplotlib.pyplot as plt\n",
    "# 导入需要使用的库,其中numpy是支持数组和矩阵运算的科学计算库,而matplotlib是绘图库\n",
    "import numpy as np\n",
    "\n",
    "\n",
    "class BernoulliBandit:\n",
    "    \"\"\" 伯努利多臂老虎机,输入K表示拉杆个数 \"\"\"\n",
    "\n",
    "    def __init__(self, K):\n",
    "        self.probs = np.random.uniform(size=K)  # 随机生成K个0～1的数,作为拉动每根拉杆的获奖\n",
    "        # 概率\n",
    "        self.best_idx = np.argmax(self.probs)  # 获奖概率最大的拉杆\n",
    "        self.best_prob = self.probs[self.best_idx]  # 最大的获奖概率\n",
    "        self.K = K\n",
    "\n",
    "    def step(self, k):\n",
    "        # 当玩家选择了k号拉杆后,根据拉动该老虎机的k号拉杆获得奖励的概率返回1（获奖）或0（未获奖）\n",
    "        if np.random.rand() < self.probs[k]:  ## 依概率self.probs[k]返回的奖励1\n",
    "            return 1\n",
    "        else:\n",
    "            return 0  ## 依概率1 - self.probs[k]返回的奖励0\n",
    "\n",
    "\n",
    "np.random.seed(1)  # 设定随机种子,使实验具有可重复性\n",
    "K = 10\n",
    "bandit_10_arm = BernoulliBandit(K)\n",
    "print(\"随机生成了一个%d臂伯努利老虎机\" % K)\n",
    "print(\"获奖概率最大的拉杆为%d号,其获奖概率为%.4f\" %\n",
    "      (bandit_10_arm.best_idx, bandit_10_arm.best_prob))\n",
    "\n",
    "# 随机生成了一个10臂伯努利老虎机\n",
    "# 获奖概率最大的拉杆为1号,其获奖概率为0.7203"
   ]
  },
  {
   "cell_type": "markdown",
   "id": "d2bf8ba043eee9fd",
   "metadata": {},
   "source": [
    "用一个 Solver 基础类来实现上述的多臂老虎机的求解方案。"
   ]
  },
  {
   "cell_type": "code",
   "execution_count": null,
   "id": "1fc60c642e65e451",
   "metadata": {
    "ExecuteTime": {
     "end_time": "2024-07-19T09:45:24.959668Z",
     "start_time": "2024-07-19T09:45:24.946630Z"
    }
   },
   "outputs": [],
   "source": [
    "class Solver:\n",
    "    \"\"\" 多臂老虎机算法基本框架 \"\"\"\n",
    "\n",
    "    def __init__(self, bandit):\n",
    "        self.bandit = bandit\n",
    "        self.counts = np.zeros(self.bandit.K)  # 每根拉杆的尝试次数\n",
    "        self.regret = 0.  # 当前步的累积懊悔\n",
    "        self.actions = []  # 维护一个列表,记录每一步的动作\n",
    "        self.regrets = []  # 维护一个列表,记录每一步的累积懊悔\n",
    "\n",
    "    def update_regret(self, k):\n",
    "        # 计算累积懊悔并保存,k为本次动作选择的拉杆的编号\n",
    "        self.regret += self.bandit.best_prob - self.bandit.probs[k]\n",
    "        self.regrets.append(self.regret)\n",
    "\n",
    "    def run_one_step(self):\n",
    "        '''\n",
    "        根据策略选择动作、根据动作获取奖励和更新期望奖励估值\n",
    "        '''\n",
    "        # 返回当前动作选择哪一根拉杆,由每个具体的策略实现\n",
    "        raise NotImplementedError\n",
    "\n",
    "    def run(self, num_steps):\n",
    "        '''\n",
    "        更新累积懊悔和计数\n",
    "        '''\n",
    "        # 运行一定次数,num_steps为总运行次数\n",
    "        for _ in range(num_steps):\n",
    "            k = self.run_one_step()  ## 根据策略选择拉杆，然后拉动拉杆，算拉杆奖励的期望值\n",
    "            self.counts[k] += 1  ## 拉动拉杆的次数+1\n",
    "            self.actions.append(k)  ## 记录每一步的动作action，也就是拉动的拉杆标号\n",
    "            self.update_regret(k)  ## 更新懊悔地累加值"
   ]
  },
  {
   "cell_type": "markdown",
   "id": "9edec2725eb02f9e",
   "metadata": {},
   "source": [
    "#### 2.3. Exploration and Exploitation\n",
    "\n",
    "##### 2.3.1. Epsilon-Greedy\n",
    "\n",
    "每次以概率 $\\epsilon$ 选择随机动作，以概率 $1-\\epsilon$ 选择当前最优动作。\n",
    "\n",
    "estimates增量更新推导：\n",
    "$$\n",
    "Q_{n+1} = \\frac{1}{n+1} \\sum_{i=1}^{n+1} r_{i}\n",
    "$$\n",
    "$$\n",
    "      = \\frac{1}{n+1} (r_{n+1} + \\sum_{i=1}^{n} r_{i})\n",
    "$$\n",
    "$$\n",
    "        = \\frac{1}{n+1} (r_{n+1} + (n) \\frac{1}{n} \\sum_{i=1}^{n} r_{i})\n",
    "$$\n",
    "$$\n",
    "        = \\frac{1}{n+1} (r_{n+1} + (n) Q_{n})\n",
    "$$\n",
    "$$\n",
    "        = Q_{n} + \\frac{1}{n+1} (r_{n+1} - Q_{n})\n",
    "$$\n"
   ]
  },
  {
   "cell_type": "code",
   "execution_count": null,
   "id": "df92d6cd5eae299",
   "metadata": {
    "ExecuteTime": {
     "end_time": "2024-07-19T09:45:24.975638Z",
     "start_time": "2024-07-19T09:45:24.961642Z"
    }
   },
   "outputs": [],
   "source": [
    "class EpsilonGreedy(Solver):\n",
    "    \"\"\" \n",
    "    epsilon贪婪算法,继承Solver类 \n",
    "    T随机，R随机\n",
    "    \"\"\"\n",
    "\n",
    "    def __init__(self, bandit, epsilon=0.01, init_prob=1.0):\n",
    "        super().__init__(bandit)\n",
    "        self.epsilon = epsilon\n",
    "        #初始化拉动所有拉杆的期望奖励估值\n",
    "        self.estimates = np.array([init_prob] * self.bandit.K)\n",
    "\n",
    "    def run_one_step(self):\n",
    "        '''\n",
    "        根据策略选择动作、根据动作获取奖励和更新期望奖励估值\n",
    "        '''\n",
    "        if np.random.random() < self.epsilon:\n",
    "            k = np.random.randint(0, self.bandit.K)  # 随机选择一根拉杆，在0到K之间，左闭右开\n",
    "        else:\n",
    "            k = np.argmax(self.estimates)  # 选择期望奖励估值最大的拉杆\n",
    "        r = self.bandit.step(k)  # 得到本次动作的奖励\n",
    "        self.estimates[k] += 1. / (self.counts[k] + 1) * (r - self.estimates[k])  ## 算第K根拉杆的期望奖励，增量更新的\n",
    "        return k"
   ]
  },
  {
   "cell_type": "markdown",
   "id": "255e4c13bef2c93f",
   "metadata": {},
   "source": [
    "直观地展示，可以把每一时间步的累积函数绘制出来"
   ]
  },
  {
   "cell_type": "code",
   "execution_count": null,
   "id": "1f68f46abbac4fda",
   "metadata": {
    "ExecuteTime": {
     "end_time": "2024-07-19T09:45:25.183628Z",
     "start_time": "2024-07-19T09:45:24.978629Z"
    }
   },
   "outputs": [],
   "source": [
    "def plot_results(solvers, solver_names):\n",
    "    \"\"\"\n",
    "    生成累积懊悔随时间变化的图像。输入solvers是一个列表,列表中的每个元素是一种特定的策略。\n",
    "    而solver_names也是一个列表,存储每个策略的名称\n",
    "    \"\"\"\n",
    "    for idx, solver in enumerate(solvers):  ## 遍历所有的解决方案，实际上只有一个解决方案\n",
    "        time_list = range(len(solver.regrets))  ## 每一步的懊悔记录，拿到横轴的数值\n",
    "        plt.plot(time_list, solver.regrets, label=solver_names[idx])  # 绘制，横轴是时间步，纵轴是懊悔值\n",
    "    plt.xlabel('Time steps')  ##  横轴的标签\n",
    "    plt.ylabel('Cumulative regrets')  ##  纵轴的标签\n",
    "    plt.title(f'{solvers[0].bandit.K}-armed bandit')  ##  标题\n",
    "    plt.legend()  ##  图例\n",
    "    plt.show()  ##  显示图片的\n",
    "\n",
    "\n",
    "np.random.seed(1)  ## 初始化随机数的 seed 种子\n",
    "epsilon_greedy_solver = EpsilonGreedy(bandit_10_arm)  ## 策略器初始化\n",
    "epsilon_greedy_solver.run(5000)  ## 拉动拉杆共五千次，然后运算累加懊悔，每个杆的期望奖励等\n",
    "print('epsilon-贪婪算法的累积懊悔为：', epsilon_greedy_solver.regret)\n",
    "plot_results([epsilon_greedy_solver], [\"EpsilonGreedy\"])\n",
    "\n",
    "# epsilon-贪婪算法的累积懊悔为：25.526630933945313"
   ]
  },
  {
   "cell_type": "code",
   "execution_count": null,
   "id": "25e9034782da8074",
   "metadata": {
    "ExecuteTime": {
     "end_time": "2024-07-19T09:45:48.330241Z",
     "start_time": "2024-07-19T09:45:48.145254Z"
    }
   },
   "outputs": [],
   "source": [
    "# 绘制概率图\n",
    "def plot_estimates(bandit, solver):\n",
    "    x = range(bandit.K)\n",
    "    plt.plot(x, solver.estimates, alpha=0.6, label='estimates')\n",
    "    plt.plot(x, bandit.probs, alpha=0.6, label='real probs')\n",
    "    plt.xlabel('Action')\n",
    "    plt.ylabel('Value')\n",
    "    plt.title('Estimates and real probabilities')\n",
    "    plt.legend()\n",
    "    for i in range(bandit.K):\n",
    "        plt.text(i, bandit.probs[i], f'{bandit.probs[i]:.2f}', ha='center', va='bottom')\n",
    "        plt.text(i, solver.estimates[i], f'{solver.estimates[i]:.2f}', ha='center', va='top')\n",
    "    plt.show()\n",
    "    \n",
    "plot_estimates(bandit_10_arm, epsilon_greedy_solver)"
   ]
  },
  {
   "cell_type": "markdown",
   "id": "ab52b5539d05676d",
   "metadata": {},
   "source": [
    "尝试不同的参数 $\\epsilon$，并比较不同参数下的累积懊悔值。"
   ]
  },
  {
   "cell_type": "code",
   "execution_count": null,
   "id": "855e0b0365a17bc2",
   "metadata": {
    "ExecuteTime": {
     "end_time": "2024-07-19T09:45:25.706947Z",
     "start_time": "2024-07-19T09:45:25.407629Z"
    }
   },
   "outputs": [],
   "source": [
    "np.random.seed(0)  ## 给定随机种子，保证实验可以复现\n",
    "epsilons = [1e-4, 0.01, 0.1, 0.25, 0.5]  ## 不同的ε值\n",
    "epsilon_greedy_solver_list = [\n",
    "    EpsilonGreedy(bandit_10_arm, epsilon=e) for e in epsilons  ## 初始化不同的策略解决方案\n",
    "]\n",
    "epsilon_greedy_solver_names = [f\"epsilon={e}\" for e in epsilons]  ## 不同ε值对应的名称\n",
    "for solver in epsilon_greedy_solver_list:  ## 遍历策略解决方案，每个策略运行五千次\n",
    "    solver.run(5000)\n",
    "\n",
    "plot_results(epsilon_greedy_solver_list, epsilon_greedy_solver_names)  ## 绘制图像的"
   ]
  },
  {
   "cell_type": "markdown",
   "id": "52cdfa8d76844412",
   "metadata": {},
   "source": [
    "尝试$\\epsilon$值随时间反比例衰减的策略，即 $\\epsilon = \\frac{1}{t}$。"
   ]
  },
  {
   "cell_type": "code",
   "execution_count": null,
   "id": "24ef567193329ef1",
   "metadata": {
    "ExecuteTime": {
     "end_time": "2024-07-19T09:45:25.880466Z",
     "start_time": "2024-07-19T09:45:25.710471Z"
    }
   },
   "outputs": [],
   "source": [
    "class DecayingEpsilonGreedy(Solver):\n",
    "    \"\"\" \n",
    "    epsilon值随时间衰减的epsilon-贪婪算法,继承Solver类 \n",
    "    \"\"\"\n",
    "\n",
    "    def __init__(self, bandit, init_prob=1.0):\n",
    "        super().__init__(bandit)  ## 初始化基类Solver\n",
    "        self.estimates = np.array([init_prob] * self.bandit.K)  ## 初始化每根拉杆的期望奖励，=1\n",
    "        self.total_count = 0  ## 拉杆的总次数\n",
    "\n",
    "    def run_one_step(self):\n",
    "        '''\n",
    "        根据策略选择动作、根据动作获取奖励和更新期望奖励估值\n",
    "        '''\n",
    "        self.total_count += 1  ## 拉杆的次数+1，此时ε=拉杆次数的倒数，拉杆次数越多ε越小\n",
    "        if np.random.random() < 1 / self.total_count:  # epsilon值随时间衰减\n",
    "            k = np.random.randint(0, self.bandit.K)  ## 此时有ε的概率随机选择拉杆\n",
    "        else:\n",
    "            k = np.argmax(self.estimates)  ## 此时有1-ε的概率选择期望奖励最大的拉杆\n",
    "\n",
    "        r = self.bandit.step(k)  ## 获得第k根拉杆的奖励\n",
    "        self.estimates[k] += 1. / (self.counts[k] + 1) * (r - self.estimates[k])  ## 增量更新期望奖励\n",
    "\n",
    "        return k\n",
    "\n",
    "\n",
    "np.random.seed(1)\n",
    "decaying_epsilon_greedy_solver = DecayingEpsilonGreedy(bandit_10_arm)  ## 初始化延迟策略解决方案\n",
    "decaying_epsilon_greedy_solver.run(5000)  ## 运行五千次拉杆操作的\n",
    "print('epsilon值衰减的贪婪算法的累积懊悔为：', decaying_epsilon_greedy_solver.regret)\n",
    "plot_results([decaying_epsilon_greedy_solver], [\"DecayingEpsilonGreedy\"])  ## 绘制图像的"
   ]
  },
  {
   "cell_type": "code",
   "execution_count": null,
   "id": "dfae8d1f60353399",
   "metadata": {
    "ExecuteTime": {
     "end_time": "2024-07-19T09:45:26.052474Z",
     "start_time": "2024-07-19T09:45:25.882465Z"
    }
   },
   "outputs": [],
   "source": [
    "# 绘制概率图\n",
    "plot_estimates(bandit_10_arm, decaying_epsilon_greedy_solver)"
   ]
  },
  {
   "cell_type": "markdown",
   "id": "666ad63c83752411",
   "metadata": {},
   "source": [
    "##### 2.3.2. Upper Confidence Bound (UCB)上置信界算法"
   ]
  },
  {
   "cell_type": "markdown",
   "id": "16155bc42e20c00b",
   "metadata": {},
   "source": [
    "霍夫丁不等式（Hoeffding's inequality）\n",
    "$$\n",
    "P(E(x) \\geq \\bar{x}_n + \\epsilon) \\leq e^{-2n\\epsilon^2} = p\n",
    "$$\n",
    "$$\n",
    "\\ln p = -2n\\epsilon^2\n",
    "$$\n",
    "$$\n",
    "\\epsilon = \\sqrt{\\frac{-\\ln p}{2n}}\n",
    "$$\n",
    "即 $Q_t(a)$ 以$1-p$的概率 $< \\hat{Q}_t(a) + \\sqrt{\\frac{-\\ln p}{2n}}$。\n",
    "\n",
    "令 $p = \\frac{1}{t}$，则 $\\epsilon = \\sqrt{\\frac{\\ln t}{2n}}$。\n",
    "\n",
    "为避免除数为0，为每根拉杆的尝试次数加上1，即 $\\epsilon = \\sqrt{\\frac{\\ln t}{2(n+1)}}$。\n",
    "\n",
    "设定一个系数c来控制不确定性的比重，即 $Q_t(a) = \\hat{Q}_t(a) + c\\sqrt{\\frac{\\ln t}{2(n+1)}}$。"
   ]
  },
  {
   "cell_type": "code",
   "execution_count": null,
   "id": "20025d3b5d0518cf",
   "metadata": {
    "ExecuteTime": {
     "end_time": "2024-07-19T09:45:26.276500Z",
     "start_time": "2024-07-19T09:45:26.055466Z"
    }
   },
   "outputs": [],
   "source": [
    "class UCB(Solver):\n",
    "    \"\"\" \n",
    "    UCB算法,继承Solver类 \n",
    "    T选π，R随机\n",
    "    \"\"\"\n",
    "\n",
    "    def __init__(self, bandit, coef, init_prob=1.0):  ##  初始化ucb类的\n",
    "        super().__init__(bandit)  ##  初始化基类Solver\n",
    "        self.total_count = 0  ##  总的拉杆次数\n",
    "        self.estimates = np.array([init_prob] * self.bandit.K)  ## 初始化每根拉杆的期望奖励\n",
    "        self.coef = coef  ## ucb的权重\n",
    "\n",
    "    def run_one_step(self):\n",
    "        '''\n",
    "        根据策略选择动作、根据动作获取奖励和更新期望奖励估值\n",
    "        '''\n",
    "        self.total_count += 1  ##  运行的总次数+1\n",
    "\n",
    "        ## 算出所有拉杆的期望奖励上界\n",
    "        ucb = self.estimates + self.coef * np.sqrt(np.log(self.total_count) / (2 * (self.counts + 1)))  # 计算上置信界\n",
    "        k = np.argmax(ucb)  # 选出上置信界最大的拉杆(期望奖励上界最大的动作)\n",
    "        r = self.bandit.step(k)  ## 拿到奖励的数值\n",
    "        self.estimates[k] += 1. / (self.counts[k] + 1) * (r - self.estimates[k])  ## 增量更新对应拉杆的期望奖励\n",
    "        return k\n",
    "\n",
    "\n",
    "np.random.seed(1)  ## 给定随机数种子，方便复现的\n",
    "coef = 1  # 控制不确定性比重的系数\n",
    "UCB_solver = UCB(bandit_10_arm, coef)  ## 实例化ucb类的\n",
    "UCB_solver.run(5000)  ## 共拉杆五千次\n",
    "print('上置信界算法的累积懊悔为：', UCB_solver.regret)\n",
    "plot_results([UCB_solver], [\"UCB\"])  ## 绘制图像的\n",
    "\n",
    "# 上置信界算法的累积懊悔为： 70.45281214197854"
   ]
  },
  {
   "cell_type": "code",
   "execution_count": null,
   "id": "641141544e78f506",
   "metadata": {
    "ExecuteTime": {
     "end_time": "2024-07-19T09:45:26.450505Z",
     "start_time": "2024-07-19T09:45:26.281475Z"
    }
   },
   "outputs": [],
   "source": [
    "# 绘制概率图\n",
    "plot_estimates(bandit_10_arm, UCB_solver)"
   ]
  },
  {
   "cell_type": "markdown",
   "id": "bdbad532bd04e896",
   "metadata": {},
   "source": [
    "##### 2.3.3. Thompson Sampling\n",
    "\n",
    "假设拉动每根拉杆的奖励服从一个特定的概率分布，然后根据拉动每根拉杆的期望奖励来进行选择。\n",
    "\n",
    "通常用 Beta 分布对当前每个动作的奖励概率分布进行建模。具体来说，若某拉杆被选择了 $k$ 次，其中$m_1$次获奖，$m_0$次未获奖，则该拉杆的奖励概率服从参数为$(m_1+1, m_0+1)$的 Beta 分布。"
   ]
  },
  {
   "cell_type": "code",
   "execution_count": null,
   "id": "20bdccd0927b906",
   "metadata": {
    "ExecuteTime": {
     "end_time": "2024-07-19T09:45:26.699160Z",
     "start_time": "2024-07-19T09:45:26.452468Z"
    }
   },
   "outputs": [],
   "source": [
    "class ThompsonSampling(Solver):\n",
    "    \"\"\" 汤普森采样算法,继承Solver类 \"\"\"\n",
    "\n",
    "    def __init__(self, bandit):\n",
    "        super().__init__(bandit)\n",
    "        self._a = np.ones(self.bandit.K)  # 列表,表示每根拉杆奖励为1的次数\n",
    "        self._b = np.ones(self.bandit.K)  # 列表,表示每根拉杆奖励为0的次数\n",
    "\n",
    "    def run_one_step(self):\n",
    "        '''\n",
    "        根据策略选择动作、根据动作获取奖励和更新期望奖励估值\n",
    "        '''\n",
    "        samples = np.random.beta(self._a, self._b)  # 按照Beta分布采样一组奖励样本\n",
    "        k = np.argmax(samples)  # 选出采样奖励最大的拉杆\n",
    "        r = self.bandit.step(k)\n",
    "\n",
    "        self._a[k] += r  # 更新Beta分布的第一个参数\n",
    "        self._b[k] += (1 - r)  # 更新Beta分布的第二个参数\n",
    "        return k\n",
    "    \n",
    "    def run(self, num_steps):\n",
    "        '''\n",
    "        更新累积懊悔和计数\n",
    "        '''\n",
    "        super().run(num_steps)\n",
    "        # 完成后使用Beta分布的期望值来估计每根拉杆的获奖概率\n",
    "        self.estimates = self._a / (self._a + self._b)\n",
    "\n",
    "\n",
    "np.random.seed(1)  ## 给定随机数种子，方便复现的\n",
    "thompson_sampling_solver = ThompsonSampling(bandit_10_arm)  ## 实例化Thompson类的\n",
    "thompson_sampling_solver.run(5000)  ## 共拉杆五千次\n",
    "print('汤普森采样算法的累积懊悔为：', thompson_sampling_solver.regret)\n",
    "plot_results([thompson_sampling_solver], [\"ThompsonSampling\"])\n",
    "\n",
    "# 汤普森采样算法的累积懊悔为：57.19161964443925"
   ]
  },
  {
   "cell_type": "code",
   "execution_count": null,
   "id": "cfa1467c42583070",
   "metadata": {
    "ExecuteTime": {
     "end_time": "2024-07-19T09:45:26.871711Z",
     "start_time": "2024-07-19T09:45:26.702681Z"
    }
   },
   "outputs": [],
   "source": [
    "# 绘制概率图\n",
    "plot_estimates(bandit_10_arm, thompson_sampling_solver)"
   ]
  },
  {
   "attachments": {
    "image.png": {
     "image/png": "[encoded data removed]"
    }
   },
   "cell_type": "markdown",
   "id": "163d9fb7",
   "metadata": {},
   "source": [
    "### 3. 马尔可夫决策过程\n",
    "\n",
    "> Markov decision processes are an extension of Markov chains; the difference is the addition of actions (allowing choice) and rewards (giving motivation). Conversely, if only one **a**ction exists for each state (e.g. “wait”) and all **r**ewards are the same (e.g. “zero”), a Markov decision process reduces to a Markov chain.”\n",
    "\n",
    "#### 3.3. Utility Function\n",
    "\n",
    "- why not finite horizon utility?\n",
    "\n",
    "if you just go one step to go, you may go to extremely risky behaviour because you have no other chances.\n",
    "\n",
    "- The main problem for MDPs is to optimize the agent’s behavior. To do so, **we first need to specify the criterion that we are trying to maximize in terms of accumulated rewards.**\n",
    "\n",
    "$ U \\leq \\frac{R_{max}}{1-\\lambda}  $\n",
    "\n",
    "![image.png](attachment:image.png)\n",
    "\n",
    "s1-s2-s3-s6"
   ]
  },
  {
   "cell_type": "code",
   "execution_count": null,
   "id": "71d980ab",
   "metadata": {},
   "outputs": [],
   "source": [
    "import numpy as np\n",
    "np.random.seed(0)\n",
    "# 定义状态转移概率矩阵P\n",
    "T = [\n",
    "    [0.9, 0.1, 0.0, 0.0, 0.0, 0.0],\n",
    "    [0.5, 0.0, 0.5, 0.0, 0.0, 0.0],\n",
    "    [0.0, 0.0, 0.0, 0.6, 0.0, 0.4],\n",
    "    [0.0, 0.0, 0.0, 0.0, 0.3, 0.7],\n",
    "    [0.0, 0.2, 0.3, 0.5, 0.0, 0.0],\n",
    "    [0.0, 0.0, 0.0, 0.0, 0.0, 1.0],\n",
    "]\n",
    "T = np.array(T)\n",
    "\n",
    "rewards = [-1, -2, -2, 10, 1, 0]  # 定义奖励函数\n",
    "gamma = 0.5  # 定义折扣因子\n",
    "\n",
    "\n",
    "# 给定一条序列,计算从某个索引（起始状态）开始到序列最后（终止状态）得到的回报\n",
    "from copy import deepcopy\n",
    "def compute_return(start_index, chain, gamma):\n",
    "    G = 0\n",
    "    ret = []\n",
    "    for i in reversed(range(start_index, len(chain))): ## 运算的方向要倒着来\n",
    "        g_ = deepcopy(G)\n",
    "        G = gamma * G + rewards[chain[i] - 1]       ## 从后往前依次运算求出结果\n",
    "        ret.append([G, gamma, g_, rewards[chain[i] - 1], chain[i]]) ## 保存\n",
    "    '''\n",
    "    https://zhuanlan.zhihu.com/p/655615836\n",
    "     0.0 = 0.5 *  0     +   0         6\n",
    "    -2.0 = 0.5 *  0     +  -2         6->3\n",
    "    -3.0 = 0.5 * -2.0   +  -2         3->2\n",
    "    -2.5 = 0.5 * -3.0   +  -1         2->1\n",
    "   ret=    [[ 0.0, 0.5,  0,    0, 6], \n",
    "            [-2.0, 0.5,  0.0, -2, 3], \n",
    "            [-3.0, 0.5, -2.0, -2, 2], \n",
    "            [-2.5, 0.5, -3.0, -1, 1]]\n",
    "    '''\n",
    "    return G\n",
    "\n",
    "\n",
    "# 一个状态序列,s1-s2-s3-s6\n",
    "chain = [1, 2, 3, 6]\n",
    "start_index = 0\n",
    "G = compute_return(start_index, chain, gamma)\n",
    "print(\"根据本序列计算得到回报为：%s。\" % G)\n",
    "\n",
    "# 根据本序列计算得到回报为：-2.5。"
   ]
  },
  {
   "cell_type": "markdown",
   "id": "9e2c8357",
   "metadata": {},
   "source": [
    "#### 3.3.2. 使用Bellman equation的解析解\n",
    "\n",
    "$ V = R + \\gamma TV $\n",
    "\n",
    "$ (I - \\gamma T) V = R $\n",
    "\n",
    "$ V = (I - \\gamma T)^{-1} R $"
   ]
  },
  {
   "cell_type": "code",
   "execution_count": null,
   "id": "b434aacb",
   "metadata": {},
   "outputs": [],
   "source": [
    "def compute(T, rewards, gamma, states_num):\n",
    "    ''' 利用贝尔曼方程的矩阵形式计算解析解,states_num是MRP的状态数 '''\n",
    "    rewards = np.array(rewards).reshape((-1, 1))  #将rewards写成列向量形式    ## r：每个状态的奖励值\n",
    "## 对应求解析解的公式，V=(1-γP)^(-1)r\n",
    "    # value = np.dot(np.linalg.inv(np.eye(states_num, states_num) - gamma * T), rewards)\n",
    "    value = np.asmatrix(np.eye(states_num) - gamma * T).I @ rewards\n",
    "\n",
    "    return value\n",
    "\n",
    "\n",
    "V = compute(T, rewards, gamma, 6)\n",
    "print(\"MRP中每个状态价值分别为\\n\", V)\n",
    "\n",
    "# MRP中每个状态价值分别为\n",
    "#  [[-2.01950168]\n",
    "#  [-2.21451846]\n",
    "#  [ 1.16142785]\n",
    "#  [10.53809283]\n",
    "#  [ 3.58728554]\n",
    "#  [ 0.        ]]"
   ]
  },
  {
   "cell_type": "markdown",
   "id": "442b3d87",
   "metadata": {},
   "source": [
    "#### 3.4. 马尔可夫决策过程（Markov decision process，MDP）"
   ]
  },
  {
   "cell_type": "code",
   "execution_count": 5,
   "id": "ef619fa5",
   "metadata": {},
   "outputs": [],
   "source": [
    "S = [\"s1\", \"s2\", \"s3\", \"s4\", \"s5\"]  # 状态集合\n",
    "A = [\"保持s1\", \"前往s1\", \"前往s2\", \"前往s3\", \"前往s4\", \"前往s5\", \"概率前往\"]  # 动作集合\n",
    "# 状态转移函数\n",
    "T = {\n",
    "    \"s1-保持s1-s1\": 1.0,\n",
    "    \"s1-前往s2-s2\": 1.0,\n",
    "    \"s2-前往s1-s1\": 1.0,\n",
    "    \"s2-前往s3-s3\": 1.0,\n",
    "    \"s3-前往s4-s4\": 1.0,\n",
    "    \"s3-前往s5-s5\": 1.0,\n",
    "    \"s4-前往s5-s5\": 1.0,\n",
    "    \"s4-概率前往-s2\": 0.2,\n",
    "    \"s4-概率前往-s3\": 0.4,\n",
    "    \"s4-概率前往-s4\": 0.4,\n",
    "}\n",
    "# 奖励函数\n",
    "R = {\n",
    "    \"s1-保持s1\": -1,\n",
    "    \"s1-前往s2\": 0,\n",
    "    \"s2-前往s1\": -1,\n",
    "    \"s2-前往s3\": -2,\n",
    "    \"s3-前往s4\": -2,\n",
    "    \"s3-前往s5\": 0,\n",
    "    \"s4-前往s5\": 10,\n",
    "    \"s4-概率前往\": 1,\n",
    "}\n",
    "gamma = 0.5  # 折扣因子\n",
    "MDP = (S, A, T, R, gamma)\n",
    "\n",
    "# 策略π1,随机策略\n",
    "pi_1 = {\n",
    "    \"s1-保持s1\": 0.5,\n",
    "    \"s1-前往s2\": 0.5,\n",
    "    \"s2-前往s1\": 0.5,\n",
    "    \"s2-前往s3\": 0.5,\n",
    "    \"s3-前往s4\": 0.5,\n",
    "    \"s3-前往s5\": 0.5,\n",
    "    \"s4-前往s5\": 0.5,\n",
    "    \"s4-概率前往\": 0.5,\n",
    "}\n",
    "# 策略π2\n",
    "pi_2 = {\n",
    "    \"s1-保持s1\": 0.6,\n",
    "    \"s1-前往s2\": 0.4,\n",
    "    \"s2-前往s1\": 0.3,\n",
    "    \"s2-前往s3\": 0.7,\n",
    "    \"s3-前往s4\": 0.5,\n",
    "    \"s3-前往s5\": 0.5,\n",
    "    \"s4-前往s5\": 0.1,\n",
    "    \"s4-概率前往\": 0.9,\n",
    "}\n",
    "\n",
    "\n",
    "# 把输入的两个字符串通过“-”连接,便于使用上述定义的P、R变量\n",
    "def join(str1, str2):\n",
    "    return str1 + '-' + str2"
   ]
  },
  {
   "cell_type": "code",
   "execution_count": 6,
   "id": "cc1cd60f",
   "metadata": {},
   "outputs": [
    {
     "name": "stdout",
     "output_type": "stream",
     "text": [
      "MDP中每个状态价值分别为\n",
      " [[-1.22555411]\n",
      " [-1.67666232]\n",
      " [ 0.51890482]\n",
      " [ 6.0756193 ]\n",
      " [ 0.        ]]\n"
     ]
    }
   ],
   "source": [
    "gamma = 0.5\n",
    "# 转化后的MRP的状态转移矩阵\n",
    "T_from_mdp_to_mrp = [\n",
    "    [0.5, 0.5, 0.0, 0.0, 0.0],\n",
    "    [0.5, 0.0, 0.5, 0.0, 0.0],\n",
    "    [0.0, 0.0, 0.0, 0.5, 0.5],\n",
    "    [0.0, 0.1, 0.2, 0.2, 0.5],\n",
    "    [0.0, 0.0, 0.0, 0.0, 1.0],\n",
    "]\n",
    "'''\n",
    "T(1|1) = pi_1[\"s1-保持s1\"] * T[\"s1-保持s1-s1\"] = 1 * 0.5 = 0.5\n",
    "T(2|1) = pi_1[\"s1-前往s2\"] * T[\"s1-前往s2-s2\"] = 1 * 0.5 = 0.5\n",
    "T(1|2) = pi_1[\"s2-前往s1\"] * T[\"s2-前往s1-s1\"] = 1 * 0.5 = 0.5\n",
    "T(3|2) = pi_1[\"s2-前往s3\"] * T[\"s2-前往s3-s3\"] = 1 * 0.5 = 0.5\n",
    "T(4|3) = pi_1[\"s3-前往s4\"] * T[\"s3-前往s4-s4\"] = 1 * 0.5 = 0.5\n",
    "T(5|3) = pi_1[\"s3-前往s5\"] * T[\"s3-前往s5-s5\"] = 1 * 0.5 = 0.5\n",
    "T(2|4) = pi_1[\"s4-概率前往\"] * T[\"s4-概率前往-s2\"] = 0.5 * 0.2 = 0.1\n",
    "T(3|4) = pi_1[\"s4-概率前往\"] * T[\"s4-概率前往-s3\"] = 0.5 * 0.4 = 0.2\n",
    "T(4|4) = pi_1[\"s4-概率前往\"] * T[\"s4-概率前往-s4\"] = 0.5 * 0.4 = 0.2\n",
    "T(5|4) = pi_1[\"s4-前往s5\"] * T[\"s4-前往s5-s5\"] = 0.5 * 1 = 0.5\n",
    "T(5|5) = 1\n",
    "'''\n",
    "T_from_mdp_to_mrp = np.array(T_from_mdp_to_mrp)\n",
    "R_from_mdp_to_mrp = [-0.5, -1.5, -1.0, 5.5, 0]  ## MDP转MRP以后的状态奖励\n",
    "'''\n",
    "r(s1) = pi_1[\"s1-保持s1\"] * R[\"s1-保持s1\"] + pi_1[\"s1-前往s2\"] * R[\"s1-前往s2\"] = -1 * 0.5 + 0 * 0.5 = -0.5\n",
    "r(s2) = pi_1[\"s2-前往s1\"] * R[\"s2-前往s1\"] + pi_1[\"s2-前往s3\"] * R[\"s2-前往s3\"] = -1 * 0.5 + -2 * 0.5 = -1.5\n",
    "r(s3) = pi_1[\"s3-前往s4\"] * R[\"s3-前往s4\"] + pi_1[\"s3-前往s5\"] * R[\"s3-前往s5\"] = -2 * 0.5 + 0 * 0.5 = -1\n",
    "r(s4) = pi_1[\"s4-前往s5\"] * R[\"s4-前往s5\"] + pi_1[\"s4-概率前往\"] * R[\"s4-概率前往\"] = 10 * 0.5 + 1 * 0.5 = 5.5\n",
    "r(s5) = 0\n",
    "也就求出了T_from_mdp_to_mrp 奖励函数的\n",
    "'''\n",
    "\n",
    "V = compute(T_from_mdp_to_mrp, R_from_mdp_to_mrp, gamma, 5)\n",
    "print(\"MDP中每个状态价值分别为\\n\", V)\n",
    "\n",
    "# MDP中每个状态价值分别为\n",
    "#  [[-1.22555411]\n",
    "#  [-1.67666232]\n",
    "#  [ 0.51890482]\n",
    "#  [ 6.0756193 ]\n",
    "#  [ 0.        ]]"
   ]
  }
 ],
 "metadata": {
  "kernelspec": {
   "display_name": "Python 3",
   "language": "python",
   "name": "python3"
  },
  "language_info": {
   "codemirror_mode": {
    "name": "ipython",
    "version": 3
   },
   "file_extension": ".py",
   "mimetype": "text/x-python",
   "name": "python",
   "nbconvert_exporter": "python",
   "pygments_lexer": "ipython3",
   "version": "3.12.2"
  }
 },
 "nbformat": 4,
 "nbformat_minor": 5
}
