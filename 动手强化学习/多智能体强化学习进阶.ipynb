{
 "cells": [
  {
   "cell_type": "code",
   "execution_count": 1,
   "metadata": {},
   "outputs": [],
   "source": [
    "import torch\n",
    "import torch.nn.functional as F\n",
    "import numpy as np\n",
    "import matplotlib.pyplot as plt\n",
    "import random\n",
    "import rl_utils"
   ]
  },
  {
   "cell_type": "code",
   "execution_count": 2,
   "metadata": {},
   "outputs": [],
   "source": [
    "import os\n",
    "os.environ[\"http_proxy\"] = \"http://localhost:7890\"\n",
    "os.environ[\"https_proxy\"] = \"http://localhost:7890\""
   ]
  },
  {
   "cell_type": "code",
   "execution_count": 4,
   "metadata": {},
   "outputs": [
    {
     "name": "stdout",
     "output_type": "stream",
     "text": [
      "Obtaining file:///H:/OneDrive%20-%20lancely/%E8%8A%B7%E7%80%9A%E5%90%8C%E6%AD%A5/qt/python/%E6%95%B4%E6%B4%BB/%E5%8A%A8%E6%89%8B%E5%BC%BA%E5%8C%96%E5%AD%A6%E4%B9%A0/multiagent-particle-envs\n",
      "  Preparing metadata (setup.py): started\n",
      "  Preparing metadata (setup.py): finished with status 'done'\n",
      "Requirement already satisfied: gym in c:\\vnstudio\\lib\\site-packages (from multiagent==0.0.1) (0.26.0)\n",
      "Collecting numpy-stl\n",
      "  Downloading numpy_stl-3.0.0-py3-none-any.whl (19 kB)\n",
      "Requirement already satisfied: importlib-metadata>=4.8.0 in c:\\vnstudio\\lib\\site-packages (from gym->multiagent==0.0.1) (6.0.0)\n",
      "Requirement already satisfied: numpy>=1.18.0 in c:\\vnstudio\\lib\\site-packages (from gym->multiagent==0.0.1) (1.21.6)\n",
      "Requirement already satisfied: gym-notices>=0.0.4 in c:\\vnstudio\\lib\\site-packages (from gym->multiagent==0.0.1) (0.0.8)\n",
      "Requirement already satisfied: cloudpickle>=1.2.0 in c:\\vnstudio\\lib\\site-packages (from gym->multiagent==0.0.1) (2.1.0)\n",
      "Collecting python-utils>=3.4.5\n",
      "  Downloading python_utils-3.4.5-py2.py3-none-any.whl (23 kB)\n",
      "Requirement already satisfied: typing-extensions>=3.6.4 in c:\\vnstudio\\lib\\site-packages (from importlib-metadata>=4.8.0->gym->multiagent==0.0.1) (4.4.0)\n",
      "Requirement already satisfied: zipp>=0.5 in c:\\vnstudio\\lib\\site-packages (from importlib-metadata>=4.8.0->gym->multiagent==0.0.1) (3.11.0)\n",
      "Installing collected packages: python-utils, numpy-stl, multiagent\n",
      "  Running setup.py develop for multiagent\n",
      "Successfully installed multiagent-0.0.1 numpy-stl-3.0.0 python-utils-3.4.5\n",
      "Note: you may need to restart the kernel to use updated packages.\n"
     ]
    },
    {
     "name": "stderr",
     "output_type": "stream",
     "text": [
      "WARNING: Ignoring invalid distribution -rotobuf (c:\\vnstudio\\lib\\site-packages)\n",
      "WARNING: Ignoring invalid distribution -illow (c:\\vnstudio\\lib\\site-packages)\n",
      "WARNING: Ignoring invalid distribution -rotobuf (c:\\vnstudio\\lib\\site-packages)\n",
      "WARNING: Ignoring invalid distribution -illow (c:\\vnstudio\\lib\\site-packages)\n",
      "  WARNING: Ignoring invalid distribution -rotobuf (c:\\vnstudio\\lib\\site-packages)\n",
      "  WARNING: Ignoring invalid distribution -illow (c:\\vnstudio\\lib\\site-packages)\n",
      "WARNING: Ignoring invalid distribution -rotobuf (c:\\vnstudio\\lib\\site-packages)\n",
      "WARNING: Ignoring invalid distribution -illow (c:\\vnstudio\\lib\\site-packages)\n",
      "WARNING: Ignoring invalid distribution -rotobuf (c:\\vnstudio\\lib\\site-packages)\n",
      "WARNING: Ignoring invalid distribution -illow (c:\\vnstudio\\lib\\site-packages)\n",
      "WARNING: Ignoring invalid distribution -rotobuf (c:\\vnstudio\\lib\\site-packages)\n",
      "WARNING: Ignoring invalid distribution -illow (c:\\vnstudio\\lib\\site-packages)\n",
      "WARNING: Ignoring invalid distribution -rotobuf (c:\\vnstudio\\lib\\site-packages)\n",
      "WARNING: Ignoring invalid distribution -illow (c:\\vnstudio\\lib\\site-packages)\n",
      "WARNING: Ignoring invalid distribution -rotobuf (c:\\vnstudio\\lib\\site-packages)\n",
      "WARNING: Ignoring invalid distribution -illow (c:\\vnstudio\\lib\\site-packages)\n",
      "WARNING: Ignoring invalid distribution -rotobuf (c:\\vnstudio\\lib\\site-packages)\n",
      "WARNING: Ignoring invalid distribution -illow (c:\\vnstudio\\lib\\site-packages)\n",
      "WARNING: Ignoring invalid distribution -rotobuf (c:\\vnstudio\\lib\\site-packages)\n",
      "WARNING: Ignoring invalid distribution -illow (c:\\vnstudio\\lib\\site-packages)\n",
      "WARNING: Ignoring invalid distribution -rotobuf (c:\\vnstudio\\lib\\site-packages)\n",
      "WARNING: Ignoring invalid distribution -illow (c:\\vnstudio\\lib\\site-packages)\n"
     ]
    },
    {
     "name": "stdout",
     "output_type": "stream",
     "text": [
      "Note: you may need to restart the kernel to use updated packages.\n"
     ]
    },
    {
     "name": "stderr",
     "output_type": "stream",
     "text": [
      "WARNING: Ignoring invalid distribution -rotobuf (c:\\vnstudio\\lib\\site-packages)\n",
      "WARNING: Ignoring invalid distribution -illow (c:\\vnstudio\\lib\\site-packages)\n",
      "WARNING: Ignoring invalid distribution -rotobuf (c:\\vnstudio\\lib\\site-packages)\n",
      "WARNING: Ignoring invalid distribution -illow (c:\\vnstudio\\lib\\site-packages)\n",
      "WARNING: Ignoring invalid distribution -rotobuf (c:\\vnstudio\\lib\\site-packages)\n",
      "WARNING: Ignoring invalid distribution -illow (c:\\vnstudio\\lib\\site-packages)\n",
      "    WARNING: Ignoring invalid distribution -rotobuf (c:\\vnstudio\\lib\\site-packages)\n",
      "    WARNING: Ignoring invalid distribution -illow (c:\\vnstudio\\lib\\site-packages)\n",
      "WARNING: Ignoring invalid distribution -rotobuf (c:\\vnstudio\\lib\\site-packages)\n",
      "WARNING: Ignoring invalid distribution -illow (c:\\vnstudio\\lib\\site-packages)\n",
      "WARNING: Ignoring invalid distribution -rotobuf (c:\\vnstudio\\lib\\site-packages)\n",
      "WARNING: Ignoring invalid distribution -illow (c:\\vnstudio\\lib\\site-packages)\n",
      "WARNING: Ignoring invalid distribution -rotobuf (c:\\vnstudio\\lib\\site-packages)\n",
      "WARNING: Ignoring invalid distribution -illow (c:\\vnstudio\\lib\\site-packages)\n",
      "WARNING: Ignoring invalid distribution -rotobuf (c:\\vnstudio\\lib\\site-packages)\n",
      "WARNING: Ignoring invalid distribution -illow (c:\\vnstudio\\lib\\site-packages)\n",
      "WARNING: Ignoring invalid distribution -rotobuf (c:\\vnstudio\\lib\\site-packages)\n",
      "WARNING: Ignoring invalid distribution -illow (c:\\vnstudio\\lib\\site-packages)\n"
     ]
    }
   ],
   "source": [
    "!git clone https://github.com/boyu-ai/multiagent-particle-envs.git --quiet"
   ]
  },
  {
   "cell_type": "code",
   "execution_count": 3,
   "metadata": {},
   "outputs": [
    {
     "name": "stdout",
     "output_type": "stream",
     "text": [
      "Obtaining file:///H:/OneDrive%20-%20lancely/%E8%8A%B7%E7%80%9A%E5%90%8C%E6%AD%A5/qt/python/%E6%95%B4%E6%B4%BB/%E5%8A%A8%E6%89%8B%E5%BC%BA%E5%8C%96%E5%AD%A6%E4%B9%A0/multiagent-particle-envs\n",
      "  Preparing metadata (setup.py): started\n",
      "  Preparing metadata (setup.py): finished with status 'done'\n",
      "Requirement already satisfied: gym in c:\\vnstudio\\lib\\site-packages (from multiagent==0.0.1) (0.10.5)\n",
      "Requirement already satisfied: numpy-stl in c:\\vnstudio\\lib\\site-packages (from multiagent==0.0.1) (3.0.0)\n",
      "Requirement already satisfied: six in c:\\vnstudio\\lib\\site-packages (from gym->multiagent==0.0.1) (1.16.0)\n",
      "Requirement already satisfied: numpy>=1.10.4 in c:\\vnstudio\\lib\\site-packages (from gym->multiagent==0.0.1) (1.21.6)\n",
      "Requirement already satisfied: pyglet>=1.2.0 in c:\\vnstudio\\lib\\site-packages (from gym->multiagent==0.0.1) (2.0.3)\n",
      "Requirement already satisfied: requests>=2.0 in c:\\vnstudio\\lib\\site-packages (from gym->multiagent==0.0.1) (2.28.1)\n",
      "Requirement already satisfied: python-utils>=3.4.5 in c:\\vnstudio\\lib\\site-packages (from numpy-stl->multiagent==0.0.1) (3.4.5)\n",
      "Requirement already satisfied: idna<4,>=2.5 in c:\\vnstudio\\lib\\site-packages (from requests>=2.0->gym->multiagent==0.0.1) (3.4)\n",
      "Requirement already satisfied: charset-normalizer<3,>=2 in c:\\vnstudio\\lib\\site-packages (from requests>=2.0->gym->multiagent==0.0.1) (2.1.1)\n",
      "Requirement already satisfied: certifi>=2017.4.17 in c:\\vnstudio\\lib\\site-packages (from requests>=2.0->gym->multiagent==0.0.1) (2022.12.7)\n",
      "Requirement already satisfied: urllib3<1.27,>=1.21.1 in c:\\vnstudio\\lib\\site-packages (from requests>=2.0->gym->multiagent==0.0.1) (1.26.13)\n",
      "Installing collected packages: multiagent\n",
      "  Attempting uninstall: multiagent\n",
      "    Found existing installation: multiagent 0.0.1\n",
      "    Uninstalling multiagent-0.0.1:\n",
      "      Successfully uninstalled multiagent-0.0.1\n",
      "  Running setup.py develop for multiagent\n",
      "Successfully installed multiagent-0.0.1\n",
      "Note: you may need to restart the kernel to use updated packages.\n"
     ]
    },
    {
     "name": "stderr",
     "output_type": "stream",
     "text": [
      "WARNING: Ignoring invalid distribution -rotobuf (c:\\vnstudio\\lib\\site-packages)\n",
      "WARNING: Ignoring invalid distribution -illow (c:\\vnstudio\\lib\\site-packages)\n",
      "WARNING: Ignoring invalid distribution -rotobuf (c:\\vnstudio\\lib\\site-packages)\n",
      "WARNING: Ignoring invalid distribution -illow (c:\\vnstudio\\lib\\site-packages)\n",
      "  WARNING: Ignoring invalid distribution -rotobuf (c:\\vnstudio\\lib\\site-packages)\n",
      "  WARNING: Ignoring invalid distribution -illow (c:\\vnstudio\\lib\\site-packages)\n",
      "WARNING: Ignoring invalid distribution -rotobuf (c:\\vnstudio\\lib\\site-packages)\n",
      "WARNING: Ignoring invalid distribution -illow (c:\\vnstudio\\lib\\site-packages)\n",
      "    WARNING: Ignoring invalid distribution -rotobuf (c:\\vnstudio\\lib\\site-packages)\n",
      "    WARNING: Ignoring invalid distribution -illow (c:\\vnstudio\\lib\\site-packages)\n",
      "WARNING: Ignoring invalid distribution -rotobuf (c:\\vnstudio\\lib\\site-packages)\n",
      "WARNING: Ignoring invalid distribution -illow (c:\\vnstudio\\lib\\site-packages)\n",
      "WARNING: Ignoring invalid distribution -rotobuf (c:\\vnstudio\\lib\\site-packages)\n",
      "WARNING: Ignoring invalid distribution -illow (c:\\vnstudio\\lib\\site-packages)\n",
      "WARNING: Ignoring invalid distribution -rotobuf (c:\\vnstudio\\lib\\site-packages)\n",
      "WARNING: Ignoring invalid distribution -illow (c:\\vnstudio\\lib\\site-packages)\n",
      "WARNING: Ignoring invalid distribution -rotobuf (c:\\vnstudio\\lib\\site-packages)\n",
      "WARNING: Ignoring invalid distribution -illow (c:\\vnstudio\\lib\\site-packages)\n",
      "WARNING: Ignoring invalid distribution -rotobuf (c:\\vnstudio\\lib\\site-packages)\n",
      "WARNING: Ignoring invalid distribution -illow (c:\\vnstudio\\lib\\site-packages)\n"
     ]
    },
    {
     "name": "stdout",
     "output_type": "stream",
     "text": [
      "Note: you may need to restart the kernel to use updated packages.\n"
     ]
    },
    {
     "name": "stderr",
     "output_type": "stream",
     "text": [
      "WARNING: Ignoring invalid distribution -rotobuf (c:\\vnstudio\\lib\\site-packages)\n",
      "WARNING: Ignoring invalid distribution -illow (c:\\vnstudio\\lib\\site-packages)\n",
      "WARNING: Ignoring invalid distribution -rotobuf (c:\\vnstudio\\lib\\site-packages)\n",
      "WARNING: Ignoring invalid distribution -illow (c:\\vnstudio\\lib\\site-packages)\n",
      "WARNING: Ignoring invalid distribution -rotobuf (c:\\vnstudio\\lib\\site-packages)\n",
      "WARNING: Ignoring invalid distribution -illow (c:\\vnstudio\\lib\\site-packages)\n",
      "WARNING: Ignoring invalid distribution -rotobuf (c:\\vnstudio\\lib\\site-packages)\n",
      "WARNING: Ignoring invalid distribution -illow (c:\\vnstudio\\lib\\site-packages)\n",
      "WARNING: Ignoring invalid distribution -rotobuf (c:\\vnstudio\\lib\\site-packages)\n",
      "WARNING: Ignoring invalid distribution -illow (c:\\vnstudio\\lib\\site-packages)\n",
      "WARNING: Ignoring invalid distribution -rotobuf (c:\\vnstudio\\lib\\site-packages)\n",
      "WARNING: Ignoring invalid distribution -illow (c:\\vnstudio\\lib\\site-packages)\n"
     ]
    }
   ],
   "source": [
    "%pip install -e multiagent-particle-envs\n",
    "import sys\n",
    "sys.path.append(\"multiagent-particle-envs\")\n",
    "# 由于multiagent-pariticle-env底层的实现有一些版本问题,因此gym需要改为可用的版本\n",
    "%pip install --upgrade gym==0.10.5 -q\n",
    "import gym\n",
    "from multiagent.environment import MultiAgentEnv\n",
    "import multiagent.scenarios as scenarios\n",
    "\n",
    "\n",
    "def make_env(scenario_name):\n",
    "    # 从环境文件脚本中创建环境\n",
    "    scenario = scenarios.load(scenario_name + \".py\").Scenario()\n",
    "    world = scenario.make_world()\n",
    "    env = MultiAgentEnv(world, scenario.reset_world, scenario.reward,\n",
    "                        scenario.observation)\n",
    "    return env"
   ]
  },
  {
   "cell_type": "code",
   "execution_count": 4,
   "metadata": {},
   "outputs": [],
   "source": [
    "def onehot_from_logits(logits, eps=0.01):\n",
    "    ''' 生成最优动作的独热（one-hot）形式 '''\n",
    "    argmax_acs = (logits == logits.max(1, keepdim=True)[0]).float()\n",
    "    # 生成随机动作,转换成独热形式\n",
    "    rand_acs = torch.autograd.Variable(torch.eye(logits.shape[1])[[\n",
    "        np.random.choice(range(logits.shape[1]), size=logits.shape[0])\n",
    "    ]],\n",
    "                                       requires_grad=False).to(logits.device)\n",
    "    # 通过epsilon-贪婪算法来选择用哪个动作\n",
    "    return torch.stack([\n",
    "        argmax_acs[i] if r > eps else rand_acs[i]\n",
    "        for i, r in enumerate(torch.rand(logits.shape[0]))\n",
    "    ])\n",
    "\n",
    "\n",
    "def sample_gumbel(shape, eps=1e-20, tens_type=torch.FloatTensor):\n",
    "    \"\"\"从Gumbel(0,1)分布中采样\"\"\"\n",
    "    U = torch.autograd.Variable(tens_type(*shape).uniform_(),\n",
    "                                requires_grad=False)\n",
    "    return -torch.log(-torch.log(U + eps) + eps)\n",
    "\n",
    "\n",
    "def gumbel_softmax_sample(logits, temperature):\n",
    "    \"\"\" 从Gumbel-Softmax分布中采样\"\"\"\n",
    "    y = logits + sample_gumbel(logits.shape, tens_type=type(logits.data)).to(\n",
    "        logits.device)\n",
    "    return F.softmax(y / temperature, dim=1)\n",
    "\n",
    "\n",
    "def gumbel_softmax(logits, temperature=1.0):\n",
    "    \"\"\"从Gumbel-Softmax分布中采样,并进行离散化\"\"\"\n",
    "    y = gumbel_softmax_sample(logits, temperature)\n",
    "    y_hard = onehot_from_logits(y)\n",
    "    y = (y_hard.to(logits.device) - y).detach() + y\n",
    "    # 返回一个y_hard的独热量,但是它的梯度是y,我们既能够得到一个与环境交互的离散动作,又可以\n",
    "    # 正确地反传梯度\n",
    "    return y"
   ]
  },
  {
   "cell_type": "code",
   "execution_count": 5,
   "metadata": {},
   "outputs": [],
   "source": [
    "class TwoLayerFC(torch.nn.Module):\n",
    "    def __init__(self, num_in, num_out, hidden_dim):\n",
    "        super().__init__()\n",
    "        self.fc1 = torch.nn.Linear(num_in, hidden_dim)\n",
    "        self.fc2 = torch.nn.Linear(hidden_dim, hidden_dim)\n",
    "        self.fc3 = torch.nn.Linear(hidden_dim, num_out)\n",
    "\n",
    "    def forward(self, x):\n",
    "        x = F.relu(self.fc1(x))\n",
    "        x = F.relu(self.fc2(x))\n",
    "        return self.fc3(x)\n",
    "\n",
    "\n",
    "class DDPG:\n",
    "    ''' DDPG算法 '''\n",
    "    def __init__(self, state_dim, action_dim, critic_input_dim, hidden_dim,\n",
    "                 actor_lr, critic_lr, device):\n",
    "        self.actor = TwoLayerFC(state_dim, action_dim, hidden_dim).to(device)\n",
    "        self.target_actor = TwoLayerFC(state_dim, action_dim,\n",
    "                                       hidden_dim).to(device)\n",
    "        self.critic = TwoLayerFC(critic_input_dim, 1, hidden_dim).to(device)\n",
    "        self.target_critic = TwoLayerFC(critic_input_dim, 1,\n",
    "                                        hidden_dim).to(device)\n",
    "        self.target_critic.load_state_dict(self.critic.state_dict())\n",
    "        self.target_actor.load_state_dict(self.actor.state_dict())\n",
    "        self.actor_optimizer = torch.optim.Adam(self.actor.parameters(),\n",
    "                                                lr=actor_lr)\n",
    "        self.critic_optimizer = torch.optim.Adam(self.critic.parameters(),\n",
    "                                                 lr=critic_lr)\n",
    "\n",
    "    def take_action(self, state, explore=False):\n",
    "        action = self.actor(state)\n",
    "        if explore:\n",
    "            action = gumbel_softmax(action)\n",
    "        else:\n",
    "            action = onehot_from_logits(action)\n",
    "        return action.detach().cpu().numpy()[0]\n",
    "\n",
    "    def soft_update(self, net, target_net, tau):\n",
    "        for param_target, param in zip(target_net.parameters(),\n",
    "                                       net.parameters()):\n",
    "            param_target.data.copy_(param_target.data * (1.0 - tau) +\n",
    "                                    param.data * tau)"
   ]
  },
  {
   "cell_type": "code",
   "execution_count": 6,
   "metadata": {},
   "outputs": [],
   "source": [
    "class MADDPG:\n",
    "    def __init__(self, env, device, actor_lr, critic_lr, hidden_dim,\n",
    "                 state_dims, action_dims, critic_input_dim, gamma, tau):\n",
    "        self.agents = []\n",
    "        for i in range(len(env.agents)):\n",
    "            self.agents.append(\n",
    "                DDPG(state_dims[i], action_dims[i], critic_input_dim,\n",
    "                     hidden_dim, actor_lr, critic_lr, device))\n",
    "        self.gamma = gamma\n",
    "        self.tau = tau\n",
    "        self.critic_criterion = torch.nn.MSELoss()\n",
    "        self.device = device\n",
    "\n",
    "    @property\n",
    "    def policies(self):\n",
    "        return [agt.actor for agt in self.agents]\n",
    "\n",
    "    @property\n",
    "    def target_policies(self):\n",
    "        return [agt.target_actor for agt in self.agents]\n",
    "\n",
    "    def take_action(self, states, explore):\n",
    "        states = [\n",
    "            torch.tensor([states[i]], dtype=torch.float, device=self.device)\n",
    "            for i in range(len(env.agents))\n",
    "        ]\n",
    "        return [\n",
    "            agent.take_action(state, explore)\n",
    "            for agent, state in zip(self.agents, states)\n",
    "        ]\n",
    "\n",
    "    def update(self, sample, i_agent):\n",
    "        obs, act, rew, next_obs, done = sample\n",
    "        cur_agent = self.agents[i_agent]\n",
    "\n",
    "        cur_agent.critic_optimizer.zero_grad()\n",
    "        all_target_act = [\n",
    "            onehot_from_logits(pi(_next_obs))\n",
    "            for pi, _next_obs in zip(self.target_policies, next_obs)\n",
    "        ]\n",
    "        target_critic_input = torch.cat((*next_obs, *all_target_act), dim=1)\n",
    "        target_critic_value = rew[i_agent].view(\n",
    "            -1, 1) + self.gamma * cur_agent.target_critic(\n",
    "                target_critic_input) * (1 - done[i_agent].view(-1, 1))\n",
    "        critic_input = torch.cat((*obs, *act), dim=1)\n",
    "        critic_value = cur_agent.critic(critic_input)\n",
    "        critic_loss = self.critic_criterion(critic_value,\n",
    "                                            target_critic_value.detach())\n",
    "        critic_loss.backward()\n",
    "        cur_agent.critic_optimizer.step()\n",
    "\n",
    "        cur_agent.actor_optimizer.zero_grad()\n",
    "        cur_actor_out = cur_agent.actor(obs[i_agent])\n",
    "        cur_act_vf_in = gumbel_softmax(cur_actor_out)\n",
    "        all_actor_acs = []\n",
    "        for i, (pi, _obs) in enumerate(zip(self.policies, obs)):\n",
    "            if i == i_agent:\n",
    "                all_actor_acs.append(cur_act_vf_in)\n",
    "            else:\n",
    "                all_actor_acs.append(onehot_from_logits(pi(_obs)))\n",
    "        vf_in = torch.cat((*obs, *all_actor_acs), dim=1)\n",
    "        actor_loss = -cur_agent.critic(vf_in).mean()\n",
    "        actor_loss += (cur_actor_out**2).mean() * 1e-3\n",
    "        actor_loss.backward()\n",
    "        cur_agent.actor_optimizer.step()\n",
    "\n",
    "    def update_all_targets(self):\n",
    "        for agt in self.agents:\n",
    "            agt.soft_update(agt.actor, agt.target_actor, self.tau)\n",
    "            agt.soft_update(agt.critic, agt.target_critic, self.tau)"
   ]
  },
  {
   "cell_type": "code",
   "execution_count": 7,
   "metadata": {},
   "outputs": [],
   "source": [
    "num_episodes = 5000\n",
    "episode_length = 25  # 每条序列的最大长度\n",
    "buffer_size = 100000\n",
    "hidden_dim = 64\n",
    "actor_lr = 1e-2\n",
    "critic_lr = 1e-2\n",
    "gamma = 0.95\n",
    "tau = 1e-2\n",
    "batch_size = 1024\n",
    "device = torch.device(\"cuda\" if torch.cuda.is_available() else \"cpu\")\n",
    "update_interval = 100\n",
    "minimal_size = 4000\n",
    "\n",
    "env_id = \"simple_adversary\"\n",
    "env = make_env(env_id)\n",
    "replay_buffer = rl_utils.ReplayBuffer(buffer_size)\n",
    "\n",
    "state_dims = []\n",
    "action_dims = []\n",
    "for action_space in env.action_space:\n",
    "    action_dims.append(action_space.n)\n",
    "for state_space in env.observation_space:\n",
    "    state_dims.append(state_space.shape[0])\n",
    "critic_input_dim = sum(state_dims) + sum(action_dims)\n",
    "\n",
    "maddpg = MADDPG(env, device, actor_lr, critic_lr, hidden_dim, state_dims,\n",
    "                action_dims, critic_input_dim, gamma, tau)"
   ]
  },
  {
   "cell_type": "code",
   "execution_count": 8,
   "metadata": {},
   "outputs": [
    {
     "name": "stderr",
     "output_type": "stream",
     "text": [
      "c:\\vnstudio\\lib\\site-packages\\ipykernel_launcher.py:25: UserWarning: Creating a tensor from a list of numpy.ndarrays is extremely slow. Please consider converting the list to a single numpy.ndarray with numpy.array() before converting to a tensor. (Triggered internally at  C:\\actions-runner\\_work\\pytorch\\pytorch\\builder\\windows\\pytorch\\torch\\csrc\\utils\\tensor_new.cpp:204.)\n"
     ]
    },
    {
     "name": "stdout",
     "output_type": "stream",
     "text": [
      "Episode: 100, [-112.77646558023959, 0.7844273129858801, 0.7844273129858801]\n"
     ]
    },
    {
     "name": "stderr",
     "output_type": "stream",
     "text": [
      "h:\\OneDrive - lancely\\芷瀚同步\\qt\\python\\整活\\动手强化学习\\rl_utils.py:18: VisibleDeprecationWarning: Creating an ndarray from ragged nested sequences (which is a list-or-tuple of lists-or-tuples-or ndarrays with different lengths or shapes) is deprecated. If you meant to do this, you must specify 'dtype=object' when creating the ndarray.\n",
      "  return np.array(state), action, reward, np.array(next_state), done\n"
     ]
    },
    {
     "name": "stdout",
     "output_type": "stream",
     "text": [
      "Episode: 200, [-166.26892299058534, 4.756469984632791, 4.756469984632791]\n",
      "Episode: 300, [-38.31267547757057, -4.379019393310412, -4.379019393310412]\n",
      "Episode: 400, [-34.59868740842176, 4.460801757669636, 4.460801757669636]\n",
      "Episode: 500, [-26.704067300139286, 4.116866978848751, 4.116866978848751]\n",
      "Episode: 600, [-12.968146269741329, -0.439923374775912, -0.439923374775912]\n",
      "Episode: 700, [-12.691956142471696, 2.6119722083572037, 2.6119722083572037]\n",
      "Episode: 800, [-13.20113190477848, 6.046845455495209, 6.046845455495209]\n",
      "Episode: 900, [-10.9099094356363, 6.543036737178378, 6.543036737178378]\n",
      "Episode: 1000, [-11.259885490448902, 7.466351195228261, 7.466351195228261]\n",
      "Episode: 1100, [-9.944528404279573, 7.1078260841901875, 7.1078260841901875]\n",
      "Episode: 1200, [-9.564900596332645, 6.756490480614909, 6.756490480614909]\n",
      "Episode: 1300, [-10.746308955897591, 7.469250170578494, 7.469250170578494]\n",
      "Episode: 1400, [-9.006211106830625, 6.828460789381461, 6.828460789381461]\n",
      "Episode: 1500, [-9.686329754443072, 7.094478905052544, 7.094478905052544]\n",
      "Episode: 1600, [-9.756611011250275, 7.158738992798914, 7.158738992798914]\n",
      "Episode: 1700, [-7.626927338695109, 5.969593170638152, 5.969593170638152]\n",
      "Episode: 1800, [-8.708863682673227, 6.977101382988146, 6.977101382988146]\n",
      "Episode: 1900, [-7.63488291536044, 5.428170047450966, 5.428170047450966]\n",
      "Episode: 2000, [-8.486963549759242, 5.815073558503308, 5.815073558503308]\n",
      "Episode: 2100, [-8.214859726972573, 5.456685977338389, 5.456685977338389]\n",
      "Episode: 2200, [-7.9928318444587285, 5.9122623157495635, 5.9122623157495635]\n",
      "Episode: 2300, [-8.93973841919229, 5.903044820925681, 5.903044820925681]\n",
      "Episode: 2400, [-8.038175391278488, 5.427937727721533, 5.427937727721533]\n",
      "Episode: 2500, [-7.880263884259187, 5.3473713812265995, 5.3473713812265995]\n",
      "Episode: 2600, [-8.3402665497135, 5.072934226804865, 5.072934226804865]\n",
      "Episode: 2700, [-9.622346405746928, 5.6413636286882545, 5.6413636286882545]\n",
      "Episode: 2800, [-9.549149041691791, 6.017512546785532, 6.017512546785532]\n",
      "Episode: 2900, [-9.057717184003558, 5.488716854538979, 5.488716854538979]\n",
      "Episode: 3000, [-9.285995498638957, 6.488935633247496, 6.488935633247496]\n",
      "Episode: 3100, [-10.07297891946255, 6.339043679436664, 6.339043679436664]\n",
      "Episode: 3200, [-7.659669134059347, 4.790482469798359, 4.790482469798359]\n",
      "Episode: 3300, [-8.379653938361988, 5.3359012156150865, 5.3359012156150865]\n",
      "Episode: 3400, [-7.247365242582468, 4.713327223573774, 4.713327223573774]\n",
      "Episode: 3500, [-9.39957395974118, 5.48635974858953, 5.48635974858953]\n",
      "Episode: 3600, [-8.268925351323524, 5.22257266790583, 5.22257266790583]\n",
      "Episode: 3700, [-10.00174156449798, 6.183965210032972, 6.183965210032972]\n",
      "Episode: 3800, [-9.79411604464114, 5.662179186131775, 5.662179186131775]\n",
      "Episode: 3900, [-8.337037254325901, 5.334452353472426, 5.334452353472426]\n",
      "Episode: 4000, [-8.143016273654919, 5.3343740873628285, 5.3343740873628285]\n",
      "Episode: 4100, [-9.830221926671523, 5.299844725017094, 5.299844725017094]\n",
      "Episode: 4200, [-8.636043437442213, 5.247918162729902, 5.247918162729902]\n",
      "Episode: 4300, [-10.096327047520951, 5.902019601658494, 5.902019601658494]\n",
      "Episode: 4400, [-8.731006201148151, 5.58471174017644, 5.58471174017644]\n",
      "Episode: 4500, [-9.733189804239876, 5.492831218378648, 5.492831218378648]\n",
      "Episode: 4600, [-9.05478909239548, 6.0166475390380185, 6.0166475390380185]\n",
      "Episode: 4700, [-8.290486834469428, 4.96150846643589, 4.96150846643589]\n",
      "Episode: 4800, [-8.844814039010135, 5.526651418991197, 5.526651418991197]\n",
      "Episode: 4900, [-7.901032297814364, 4.359807058090434, 4.359807058090434]\n",
      "Episode: 5000, [-8.63909756573069, 5.19023395792524, 5.19023395792524]\n"
     ]
    }
   ],
   "source": [
    "def evaluate(env_id, maddpg, n_episode=10, episode_length=25):\n",
    "    # 对学习的策略进行评估,此时不会进行探索\n",
    "    env = make_env(env_id)\n",
    "    returns = np.zeros(len(env.agents))\n",
    "    for _ in range(n_episode):\n",
    "        obs = env.reset()\n",
    "        for t_i in range(episode_length):\n",
    "            actions = maddpg.take_action(obs, explore=False)\n",
    "            obs, rew, done, info = env.step(actions)\n",
    "            rew = np.array(rew)\n",
    "            returns += rew / n_episode\n",
    "    return returns.tolist()\n",
    "\n",
    "\n",
    "return_list = []  # 记录每一轮的回报（return）\n",
    "total_step = 0\n",
    "for i_episode in range(num_episodes):\n",
    "    state = env.reset()\n",
    "    # ep_returns = np.zeros(len(env.agents))\n",
    "    for e_i in range(episode_length):\n",
    "        actions = maddpg.take_action(state, explore=True)\n",
    "        next_state, reward, done, _ = env.step(actions)\n",
    "        replay_buffer.add(state, actions, reward, next_state, done)\n",
    "        state = next_state\n",
    "\n",
    "        total_step += 1\n",
    "        if replay_buffer.size(\n",
    "        ) >= minimal_size and total_step % update_interval == 0:\n",
    "            sample = replay_buffer.sample(batch_size)\n",
    "\n",
    "            def stack_array(x):\n",
    "                rearranged = [[sub_x[i] for sub_x in x]\n",
    "                              for i in range(len(x[0]))]\n",
    "                return [\n",
    "                    torch.FloatTensor(np.vstack(aa)).to(device)\n",
    "                    for aa in rearranged\n",
    "                ]\n",
    "\n",
    "            sample = [stack_array(x) for x in sample]\n",
    "            for a_i in range(len(env.agents)):\n",
    "                maddpg.update(sample, a_i)\n",
    "            maddpg.update_all_targets()\n",
    "    if (i_episode + 1) % 100 == 0:\n",
    "        ep_returns = evaluate(env_id, maddpg, n_episode=100)\n",
    "        return_list.append(ep_returns)\n",
    "        print(f\"Episode: {i_episode+1}, {ep_returns}\")"
   ]
  },
  {
   "cell_type": "code",
   "execution_count": 9,
   "metadata": {},
   "outputs": [
    {
     "data": {
      "image/png": "[encoded data removed]",
      "text/plain": [
       "<Figure size 432x288 with 1 Axes>"
      ]
     },
     "metadata": {
      "needs_background": "light"
     },
     "output_type": "display_data"
    },
    {
     "data": {
      "image/png": "[encoded data removed]",
      "text/plain": [
       "<Figure size 432x288 with 1 Axes>"
      ]
     },
     "metadata": {
      "needs_background": "light"
     },
     "output_type": "display_data"
    },
    {
     "data": {
      "image/png": "[encoded data removed]",
      "text/plain": [
       "<Figure size 432x288 with 1 Axes>"
      ]
     },
     "metadata": {
      "needs_background": "light"
     },
     "output_type": "display_data"
    }
   ],
   "source": [
    "return_array = np.array(return_list)\n",
    "for i, agent_name in enumerate([\"adversary_0\", \"agent_0\", \"agent_1\"]):\n",
    "    plt.figure()\n",
    "    plt.plot(\n",
    "        np.arange(return_array.shape[0]) * 100,\n",
    "        rl_utils.moving_average(return_array[:, i], 9))\n",
    "    plt.xlabel(\"Episodes\")\n",
    "    plt.ylabel(\"Returns\")\n",
    "    plt.title(f\"{agent_name} by MADDPG\")"
   ]
  }
 ],
 "metadata": {
  "kernelspec": {
   "display_name": "Python 3",
   "language": "python",
   "name": "python3"
  },
  "language_info": {
   "codemirror_mode": {
    "name": "ipython",
    "version": 3
   },
   "file_extension": ".py",
   "mimetype": "text/x-python",
   "name": "python",
   "nbconvert_exporter": "python",
   "pygments_lexer": "ipython3",
   "version": "3.7.1"
  },
  "orig_nbformat": 4,
  "vscode": {
   "interpreter": {
    "hash": "5a98bc0709bb551cb0b40a68bfcb118c11ed773779c4b4ca5eb3852e4a8f5446"
   }
  }
 },
 "nbformat": 4,
 "nbformat_minor": 2
}
