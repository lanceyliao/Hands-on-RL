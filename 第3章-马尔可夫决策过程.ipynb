{
 "cells": [
  {
   "cell_type": "code",
   "execution_count": 30,
   "metadata": {
    "colab": {
     "base_uri": "https://localhost:8080/"
    },
    "executionInfo": {
     "elapsed": 303,
     "status": "ok",
     "timestamp": 1649954723228,
     "user": {
      "displayName": "Sam Lu",
      "userId": "15789059763790170725"
     },
     "user_tz": -480
    },
    "id": "COkP4ZDh9fWg",
    "outputId": "943a07c9-f8db-4646-841b-d2960785eb17"
   },
   "outputs": [
    {
     "name": "stdout",
     "output_type": "stream",
     "text": [
      "0.11712105221274086 0.2329241059970849\n"
     ]
    }
   ],
   "source": [
    "def occupancy(episodes, s, a, timestep_max, gamma):\n",
    "    ''' 计算状态动作对（s,a）出现的频率,以此来估算策略的占用度量 '''\n",
    "    rho = 0\n",
    "    total_times = np.zeros(timestep_max)  # 记录每个时间步t各被经历过几次\n",
    "    occur_times = np.zeros(timestep_max)  # 记录(s_t,a_t)=(s,a)的次数\n",
    "    for episode in episodes:              ## 遍历每个采样的内容\n",
    "        for i in range(len(episode)):     ## 遍历每个采样内部的状态、动作的内容\n",
    "            (s_opt, a_opt, r, s_next) = episode[i]   ## 拿到每个采样内的 状态、动作、动作的奖励、下一个状态\n",
    "            total_times[i] += 1                      ## 统计序列所在index的次数\n",
    "            if s == s_opt and a == a_opt:            ## 状态、动作和给定的相同\n",
    "                occur_times[i] += 1                  ## 也就是（状态，动作）对的次数+1\n",
    "    for i in reversed(range(timestep_max)):       ## 逆序算占用度量\n",
    "        if total_times[i]:                        ## 序列所在的index有值\n",
    "            rho += gamma**i * occur_times[i] / total_times[i]        ## 按照公式运算\n",
    "    return (1 - gamma) * rho\n",
    "\n",
    "\n",
    "gamma = 0.5\n",
    "timestep_max = 1000\n",
    "\n",
    "episodes_1 = sample(MDP, Pi_1, timestep_max, 10000)  ## 采样，参数是MDP，Pi_1是策略，timestep_max是最长时间步，10000是采样的次数\n",
    "episodes_2 = sample(MDP, Pi_2, timestep_max, 10000)  ## 和上面只有策略不同，Pi_2\n",
    "rho_1 = occupancy(episodes_1, \"s4\", \"概率前往\", timestep_max, gamma)    ## 算占用度量\n",
    "rho_2 = occupancy(episodes_2, \"s4\", \"概率前往\", timestep_max, gamma)\n",
    "print(rho_1, rho_2)\n",
    "\n",
    "# 0.112567796310472 0.23199480615618912"
   ]
  },
  {
   "cell_type": "code",
   "execution_count": null,
   "metadata": {},
   "outputs": [],
   "source": []
  }
 ],
 "metadata": {
  "colab": {
   "collapsed_sections": [],
   "name": "第3章-马尔可夫决策过程.ipynb",
   "provenance": []
  },
  "kernelspec": {
   "display_name": "Python 3 (ipykernel)",
   "language": "python",
   "name": "python3"
  },
  "language_info": {
   "codemirror_mode": {
    "name": "ipython",
    "version": 3
   },
   "file_extension": ".py",
   "mimetype": "text/x-python",
   "name": "python",
   "nbconvert_exporter": "python",
   "pygments_lexer": "ipython3",
   "version": "3.10.12"
  }
 },
 "nbformat": 4,
 "nbformat_minor": 4
}
