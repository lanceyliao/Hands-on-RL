{
 "cells": [
  {
   "cell_type": "code",
   "execution_count": 26,
   "metadata": {
    "colab": {
     "base_uri": "https://localhost:8080/"
    },
    "executionInfo": {
     "elapsed": 3,
     "status": "ok",
     "timestamp": 1649954837446,
     "user": {
      "displayName": "Sam Lu",
      "userId": "15789059763790170725"
     },
     "user_tz": -480
    },
    "id": "2ZFlb2dB95VM",
    "outputId": "0d4f2c7a-3589-4bb1-f95a-e9e4696d6201"
   },
   "outputs": [
    {
     "name": "stdout",
     "output_type": "stream",
     "text": [
      "冰洞的索引: {11, 12, 5, 7}\n",
      "目标的索引: {15}\n",
      "[(0.3333333333333333, 10, 0.0, False), (0.3333333333333333, 13, 0.0, False), (0.3333333333333333, 14, 0.0, False)]\n",
      "[(0.3333333333333333, 13, 0.0, False), (0.3333333333333333, 14, 0.0, False), (0.3333333333333333, 15, 1.0, True)]\n",
      "[(0.3333333333333333, 14, 0.0, False), (0.3333333333333333, 15, 1.0, True), (0.3333333333333333, 10, 0.0, False)]\n",
      "[(0.3333333333333333, 15, 1.0, True), (0.3333333333333333, 10, 0.0, False), (0.3333333333333333, 13, 0.0, False)]\n"
     ]
    }
   ],
   "source": [
    "import gymnasium as gym\n",
    "env = gym.make(\"FrozenLake-v1\")  # 创建环境\n",
    "_ = env.reset(seed=0)\n",
    "env = env.unwrapped  # 解封装才能访问状态转移矩阵P\n",
    "env.render()  # 环境渲染,通常是弹窗显示或打印出可视化的环境\n",
    "\n",
    "holes = set()\n",
    "ends = set()\n",
    "for s in env.P:  ##  遍历环境的所有状态\n",
    "    for a in env.P[s]:  ##  遍历状态下所有的动作\n",
    "        for s_ in env.P[s][a]:  ##  遍历每个动作对应的转移情况\n",
    "            if s_[2] == 1.0:  # 获得奖励为1,代表是目标\n",
    "                ends.add(s_[1]) ##  终止标号的呢\n",
    "            if s_[3] == True:   ##  是否洞\n",
    "                holes.add(s_[1])  ## 标号\n",
    "holes = holes - ends\n",
    "print(\"冰洞的索引:\", holes)\n",
    "print(\"目标的索引:\", ends)\n",
    "\n",
    "## 共有三个动作的，每个动作有三种转移可能\n",
    "## 每个动作都有三种状态转移的可能，和上面的悬崖有些区别的，上面的悬崖只有一种可能\n",
    "## 导致这种情况的reason，就是冰面太滑了，可能滑到其他地方去了\n",
    "for a in env.P[14]:  # 查看目标左边一格的状态转移信息\n",
    "    print(env.P[14][a])\n",
    "\n",
    "# SFFF\n",
    "# FHFH\n",
    "# FFFH\n",
    "# HFFG\n",
    "# 冰洞的索引: {11, 12, 5, 7}\n",
    "# 目标的索引: {15}\n",
    "# [(0.3333333333333333, 10, 0.0, False), (0.3333333333333333, 13, 0.0, False),\n",
    "#  (0.3333333333333333, 14, 0.0, False)]\n",
    "# [(0.3333333333333333, 13, 0.0, False), (0.3333333333333333, 14, 0.0, False),\n",
    "#  (0.3333333333333333, 15, 1.0, True)]\n",
    "# [(0.3333333333333333, 14, 0.0, False), (0.3333333333333333, 15, 1.0, True),\n",
    "#  (0.3333333333333333, 10, 0.0, False)]\n",
    "# [(0.3333333333333333, 15, 1.0, True), (0.3333333333333333, 10, 0.0, False),\n",
    "#  (0.3333333333333333, 13, 0.0, False)]"
   ]
  },
  {
   "cell_type": "code",
   "execution_count": 29,
   "metadata": {
    "colab": {
     "base_uri": "https://localhost:8080/"
    },
    "executionInfo": {
     "elapsed": 7,
     "status": "ok",
     "timestamp": 1649954839116,
     "user": {
      "displayName": "Sam Lu",
      "userId": "15789059763790170725"
     },
     "user_tz": -480
    },
    "id": "4gf_IaeZ95VM",
    "outputId": "20ba5b95-4481-4b40-8015-54ea7fa0c2cb"
   },
   "outputs": [
    {
     "name": "stdout",
     "output_type": "stream",
     "text": [
      "策略评估进行25轮后完成\n",
      "策略提升完成\n",
      "策略评估进行58轮后完成\n",
      "策略提升完成\n",
      "状态价值：\n",
      " 0.069  0.061  0.074  0.056 \n",
      " 0.092  0.000  0.112  0.000 \n",
      " 0.145  0.247  0.300  0.000 \n",
      " 0.000  0.380  0.639  0.000 \n",
      "策略：\n",
      "<ooo ooo^ <ooo ooo^ \n",
      "<ooo **** <o>o **** \n",
      "ooo^ ovoo <ooo **** \n",
      "**** oo>o ovoo EEEE \n"
     ]
    }
   ],
   "source": [
    "# 这个动作意义是Gym库针对冰湖环境事先规定好的\n",
    "action_meaning = ['<', 'v', '>', '^']   ## 上下左右的标识符\n",
    "theta = 1e-5   ## 当绝对值差值小于阀值时，停止迭代的呢\n",
    "gamma = 0.9    ## γ值\n",
    "agent = PolicyIteration(env, theta, gamma)  ## 实例化策略迭代\n",
    "agent.policy_iteration()      ## 迭代\n",
    "print_agent(agent, action_meaning, [5, 7, 11, 12], [15]) ## 输出\n",
    "\n",
    "# 策略评估进行25轮后完成\n",
    "# 策略提升完成\n",
    "# 策略评估进行58轮后完成\n",
    "# 策略提升完成\n",
    "# 状态价值：\n",
    "#  0.069  0.061  0.074  0.056\n",
    "#  0.092  0.000  0.112  0.000\n",
    "#  0.145  0.247  0.300  0.000\n",
    "#  0.000  0.380  0.639  0.000\n",
    "# 策略：\n",
    "# <ooo ooo^ <ooo ooo^\n",
    "# <ooo **** <o>o ****\n",
    "# ooo^ ovoo <ooo ****\n",
    "# **** oo>o ovoo EEEE"
   ]
  },
  {
   "cell_type": "code",
   "execution_count": 8,
   "metadata": {
    "colab": {
     "base_uri": "https://localhost:8080/"
    },
    "executionInfo": {
     "elapsed": 6,
     "status": "ok",
     "timestamp": 1649954839117,
     "user": {
      "displayName": "Sam Lu",
      "userId": "15789059763790170725"
     },
     "user_tz": -480
    },
    "id": "cqPm4jxd95VN",
    "outputId": "ab6bdc64-5a4a-47f0-c6af-08bf4c2aeb0f"
   },
   "outputs": [
    {
     "name": "stdout",
     "output_type": "stream",
     "text": [
      "价值迭代一共进行60轮\n",
      "状态价值：\n",
      " 0.069  0.061  0.074  0.056 \n",
      " 0.092  0.000  0.112  0.000 \n",
      " 0.145  0.247  0.300  0.000 \n",
      " 0.000  0.380  0.639  0.000 \n",
      "策略：\n",
      "<ooo ooo^ <ooo ooo^ \n",
      "<ooo **** <o>o **** \n",
      "ooo^ ovoo <ooo **** \n",
      "**** oo>o ovoo EEEE \n"
     ]
    }
   ],
   "source": [
    "action_meaning = ['<', 'v', '>', '^']   ## 上下左右的标识符\n",
    "theta = 1e-5   ## 当绝对值差值小于阀值时，停止迭代的呢\n",
    "gamma = 0.9    ## γ值\n",
    "agent = ValueIteration(env, theta, gamma)  ## 实例化价值迭代\n",
    "agent.value_iteration()      ## 迭代\n",
    "print_agent(agent, action_meaning, [5, 7, 11, 12], [15]) ## 输出\n",
    "\n",
    "# 价值迭代一共进行60轮\n",
    "# 状态价值：\n",
    "#  0.069  0.061  0.074  0.056\n",
    "#  0.092  0.000  0.112  0.000\n",
    "#  0.145  0.247  0.300  0.000\n",
    "#  0.000  0.380  0.639  0.000\n",
    "# 策略：\n",
    "# <ooo ooo^ <ooo ooo^\n",
    "# <ooo **** <o>o ****\n",
    "# ooo^ ovoo <ooo ****\n",
    "# **** oo>o ovoo EEEE"
   ]
  },
  {
   "cell_type": "code",
   "execution_count": null,
   "metadata": {},
   "outputs": [],
   "source": []
  }
 ],
 "metadata": {
  "colab": {
   "collapsed_sections": [],
   "name": "第4章-动态规划算法.ipynb",
   "provenance": [],
   "toc_visible": true
  },
  "kernelspec": {
   "display_name": "Python 3 (ipykernel)",
   "language": "python",
   "name": "python3"
  },
  "language_info": {
   "codemirror_mode": {
    "name": "ipython",
    "version": 3
   },
   "file_extension": ".py",
   "mimetype": "text/x-python",
   "name": "python",
   "nbconvert_exporter": "python",
   "pygments_lexer": "ipython3",
   "version": "3.10.12"
  }
 },
 "nbformat": 4,
 "nbformat_minor": 4
}
